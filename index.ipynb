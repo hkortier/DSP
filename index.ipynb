{
 "cells": [
  {
   "cell_type": "markdown",
   "metadata": {},
   "source": [
    "# Digital Signal Processing\n",
    "This repository contains a collection of [Jupyter](http://jupyter.org/) notebooks discussing various topics of Digital Signal Processing. A basic understanding of discrete signals and systems is assumed as prerequisite. The theory is accompanied by numerical examples written in IPython 3. The examples are best explored in an interactive manner. See the [README](https://render.githubusercontent.com/view/README.md) for usage/installation instructions."
   ]
  },
  {
   "cell_type": "markdown",
   "metadata": {},
   "source": [
    "----"
   ]
  },
  {
   "cell_type": "markdown",
   "metadata": {},
   "source": [
    "## Table of Content:\n",
    "    \n",
    "1. [Sampling and Quantization](DSB1.ipynb)"
   ]
  },
  {
   "cell_type": "markdown",
   "metadata": {},
   "source": [
    "---"
   ]
  },
  {
   "cell_type": "markdown",
   "metadata": {
    "collapsed": true
   },
   "source": [
    "### Literature\n",
    "* Sophocles J. Orfanidis, Introduction to Signal Processing, Pearson, 1996-2009\n",
    "* John G. Proakis and Dimitris K. Manolakis, Digital Signal Processing, Pearson, 2006.\n",
    "\n",
    "### Contributors\n",
    "Henk Kortier (author)\n",
    "\n",
    "### Copyright\n",
    "The notebooks are provided as Open Educational Resource. Feel free to use the notebooks for your own educational purposes. The text is licensed under Creative Commons Attribution 4.0, the code of the IPython examples under the MIT license. Please attribute the work as follows: Lecture Notes on Digital Signal Processing by Henk Kortier."
   ]
  }
 ],
 "metadata": {
  "kernelspec": {
   "display_name": "Python 3",
   "language": "python",
   "name": "python3"
  },
  "language_info": {
   "codemirror_mode": {
    "name": "ipython",
    "version": 3
   },
   "file_extension": ".py",
   "mimetype": "text/x-python",
   "name": "python",
   "nbconvert_exporter": "python",
   "pygments_lexer": "ipython3",
   "version": "3.5.1"
  }
 },
 "nbformat": 4,
 "nbformat_minor": 0
}
