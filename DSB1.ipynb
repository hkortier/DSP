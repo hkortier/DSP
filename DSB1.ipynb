{
 "cells": [
  {
   "cell_type": "code",
   "execution_count": 1,
   "metadata": {},
   "outputs": [],
   "source": [
    "%matplotlib inline"
   ]
  },
  {
   "cell_type": "code",
   "execution_count": 2,
   "metadata": {},
   "outputs": [],
   "source": [
    "import numpy as np\n",
    "import scipy as sp\n",
    "import matplotlib.pyplot as plt\n",
    "\n",
    "from ipywidgets import interactive\n",
    "#plt.style.use('ggplot')"
   ]
  },
  {
   "cell_type": "markdown",
   "metadata": {},
   "source": [
    "----\n",
    "## INHOUD:\n",
    "\n",
    "* [AD Conversie](#Analog_Digital_Conversion)\n",
    "    * [Sampling](#Sampling)\n",
    "    * [Quantization](#Quantization)\n",
    "    \n",
    "    \n",
    "----    "
   ]
  },
  {
   "cell_type": "markdown",
   "metadata": {},
   "source": [
    "------------\n",
    "## Analog Digital Conversion\n",
    "\n",
    "Two steps are mandatory in order to do digital processing on analog signals.\n",
    "![Analog, discrete and digital signals](figures/analog_discrete_digital.png)"
   ]
  },
  {
   "cell_type": "markdown",
   "metadata": {},
   "source": [
    "---\n",
    "# Sampling, Aliasing en Nyquist:\n",
    "\n",
    "\n",
    "### Nyquist (Folding) frequency: $$\\dfrac{f_s}{2}$$\n",
    "### Nyquist rate: $$f_s=2 f_{max}$$\n",
    "### Nyquist interval: $$\\left[-\\dfrac{f_s}{2}, \\dfrac{f_s}{2}\\right]$$\n",
    "\n",
    "### Nyquist condition: $$f_s \\geq 2 f_{max}$$\n",
    "----"
   ]
  },
  {
   "cell_type": "code",
   "execution_count": 192,
   "metadata": {
    "scrolled": false
   },
   "outputs": [],
   "source": [
    "def aliasingExample(fs=2.1,f1=1):\n",
    "\n",
    "    T = 1/fs #sampling period\n",
    "\n",
    "    tstart = 0\n",
    "    tend = 100\n",
    "\n",
    "    dt = 1./100;\n",
    "\n",
    "    t = np.arange(tstart,tend,dt) #time axis\n",
    "    n = np.arange(tstart,tend*fs) #discrete time intervals \n",
    "\n",
    "    f2 = np.mod(f1,fs) #determine aliasing frequency\n",
    "\n",
    "    if f2>fs/2:\n",
    "        f2 = f2-fs\n",
    "\n",
    "    w1 = 2*np.pi*f1\n",
    "    w2 = 2*np.pi*f2\n",
    "\n",
    "    phi = -.1*np.pi\n",
    "\n",
    "    def genSig(arg,type='sin'):\n",
    "        if type == 'cos':\n",
    "            return np.cos(arg)\n",
    "        else:\n",
    "            return np.sin(arg)\n",
    "\n",
    "    y1 = genSig(w1*t+phi)\n",
    "    y2 = genSig(w2*t+phi)   \n",
    "    y2_discr = genSig(w1*n*T+phi)\n",
    "    t_discr = n*T\n",
    "\n",
    "    fig,ax = plt.subplots(ncols=1,nrows=2,num=None, figsize=(14,10), facecolor='w', edgecolor='k')\n",
    "    ax[0].plot(t,y1,'r', label='original: ' + str(f1) + ' Hz', linewidth=3)\n",
    "    ax[0].plot(t,y2,'b', label='reconstructed: ' + str(f2) + ' Hz')\n",
    "\n",
    "    ax[0].stem(t_discr,y2_discr,linefmt='k-', markerfmt='ko', basefmt='k.', label='samples')\n",
    "\n",
    "    ax[0].set_xlabel('Time [s]')\n",
    "    ax[0].set_ylabel('Amplitude [au]')\n",
    "    ax[0].legend(fontsize='large',loc='lower right')\n",
    "    ax[0].grid('on')\n",
    "    ax[0].set_xlim([0,4])\n",
    "\n",
    "    # determine frequency axis y1\n",
    "    n = y2_discr.size\n",
    "    fvec_2 = np.arange(0,fs,fs/n); # Frequency axis start at 0 ends at Fs, resolution is Fs/N\n",
    "    fvec_2 = fvec_2[range(int(n/2))]\n",
    "\n",
    "    Y2_discr = np.fft.fft(y2_discr)/n # fft computing and normalization\n",
    "    Y2_discr = Y2_discr[range(int(n/2))]\n",
    "\n",
    "    ax[1].stem(fvec_2,2*abs(Y2_discr))\n",
    "    ax[1].set_xlabel('Frequency [Hz]')\n",
    "    ax[1].set_ylabel('Amplitude [au]')\n",
    "    ax[1].set_xlim([0,2])\n",
    "    ax[1].grid('on')"
   ]
  },
  {
   "cell_type": "code",
   "execution_count": 194,
   "metadata": {
    "scrolled": false
   },
   "outputs": [
    {
     "data": {
      "application/vnd.jupyter.widget-view+json": {
       "model_id": "9e4315f3640849799141db15adc25d3f",
       "version_major": 2,
       "version_minor": 0
      },
      "text/html": [
       "<p>Failed to display Jupyter Widget of type <code>interactive</code>.</p>\n",
       "<p>\n",
       "  If you're reading this message in the Jupyter Notebook or JupyterLab Notebook, it may mean\n",
       "  that the widgets JavaScript is still loading. If this message persists, it\n",
       "  likely means that the widgets JavaScript library is either not installed or\n",
       "  not enabled. See the <a href=\"https://ipywidgets.readthedocs.io/en/stable/user_install.html\">Jupyter\n",
       "  Widgets Documentation</a> for setup instructions.\n",
       "</p>\n",
       "<p>\n",
       "  If you're reading this message in another frontend (for example, a static\n",
       "  rendering on GitHub or <a href=\"https://nbviewer.jupyter.org/\">NBViewer</a>),\n",
       "  it may mean that your frontend doesn't currently support widgets.\n",
       "</p>\n"
      ],
      "text/plain": [
       "interactive(children=(FloatSlider(value=2.1, description='fs', max=3.0, step=0.05), FloatSlider(value=1.0, description='f1', max=2.0, step=0.5), Output()), _dom_classes=('widget-interact',))"
      ]
     },
     "metadata": {},
     "output_type": "display_data"
    }
   ],
   "source": [
    "interactive(aliasingExample, f1 = (0,2,0.5), fs=(0,3,0.05))"
   ]
  },
  {
   "cell_type": "markdown",
   "metadata": {},
   "source": [
    "---"
   ]
  },
  {
   "cell_type": "markdown",
   "metadata": {},
   "source": [
    "# Quantization"
   ]
  },
  {
   "cell_type": "markdown",
   "metadata": {},
   "source": [
    "### Supporting functions"
   ]
  },
  {
   "cell_type": "code",
   "execution_count": 195,
   "metadata": {},
   "outputs": [],
   "source": [
    "def biquant(NoBits, Xmin, Xmax, x):\n",
    "    # function pq = biquant(NoBits, Xmin, Xmax, value)\n",
    "    # This routine is created for simulation of the bipolar quantizer.\n",
    "    #\n",
    "    # NoBits: number of bits used in quantization.\n",
    "    # Xmax: overload value.\n",
    "    # Xmin: minimum value\n",
    "    # value: input to be quantized.\n",
    "    # pq: output of the quantized value\n",
    "    # I: coded integer index\n",
    "    \n",
    "    L = 2**NoBits; #Levels\n",
    "    R = Xmax-Xmin; #Range\n",
    "    Q = R/L; #Resolution\n",
    "    I = np.round((x-Xmin)/Q);\n",
    "    \n",
    "    if ( I == L):\n",
    "        I = I-1\n",
    "\n",
    "    if I < 0:\n",
    "        I = 0\n",
    "\n",
    "    pq = Xmin + I*Q;\n",
    "    return pq"
   ]
  },
  {
   "cell_type": "markdown",
   "metadata": {},
   "source": [
    "---"
   ]
  },
  {
   "cell_type": "markdown",
   "metadata": {},
   "source": [
    "Het samplen zorgt voor een opdeling in de tijd. Kwantiseren is nodig om het signaal op te delen in de amplitude. Het aantal niveaus (levels) wordt bepaald door het aantal bits van de AD converter. \n",
    "\n",
    "Stel we hebben een 3 bits analoog naar digitaal (AD) converter, het aantal levels wat we dan verkrijgen is:\n",
    "\n",
    "\\begin{equation}\n",
    "levels = 2^{n} = 2^3 = 8\n",
    "\\end{equation}\n",
    "\n",
    "De resolutie (vaak in Volt uitgedrukt) wordt bepaald door de verhouding in het bereik van de AD converter en het aantal levels:\n",
    "\n",
    "\\begin{equation}\n",
    "resolutie (Q) = \\frac{bereik (R)}{levels} = \\frac{2}{8} = 0.25~V\n",
    "\\end{equation}"
   ]
  },
  {
   "cell_type": "code",
   "execution_count": 196,
   "metadata": {},
   "outputs": [
    {
     "data": {
      "image/png": "[encoded data removed]",
      "text/plain": [
       "<matplotlib.figure.Figure at 0x10f6edda0>"
      ]
     },
     "metadata": {},
     "output_type": "display_data"
    }
   ],
   "source": [
    "N = 1000  # length of signal\n",
    "\n",
    "# generate signal\n",
    "A = 1\n",
    "f = 4\n",
    "t = np.linspace(0,1,N)\n",
    "x = A*np.sin(f*2*t)\n",
    "t_discr = t[::20]\n",
    "x_discr = x[::20]\n",
    "\n",
    "nBits = 3\n",
    "xQ = [biquant(nBits,-A,A,xi) for xi in x_discr]\n",
    "\n",
    "# plot (quantized) signals\n",
    "fig, ax1 = plt.subplots(figsize=(10, 6), facecolor='w', edgecolor='k')\n",
    "\n",
    "ax1.plot(t,x, 'b', label=r'continous signal')\n",
    "ax1.stem(t_discr,x_discr,label=r'discrete signal',linefmt='r-', markerfmt='ro', basefmt='r.')\n",
    "ax1.stem(t_discr,xQ,label=r'digital signal',linefmt='g-', markerfmt='go', basefmt='g.')\n",
    "ax1.set_xlabel('t [s]')\n",
    "ax1.legend(fontsize='large',loc=0)\n",
    "\n",
    "plt.show()"
   ]
  },
  {
   "cell_type": "markdown",
   "metadata": {},
   "source": [
    "----"
   ]
  },
  {
   "cell_type": "markdown",
   "metadata": {},
   "source": [
    "## Impulse function:\n",
    "\\begin{equation}\n",
    "\\delta (t) = \\begin{cases}\n",
    "                  \\inf & \\text{for $t=0$}.\\\\\n",
    "                  0 & \\text{otherwise}\n",
    "                \\end{cases}\n",
    "\\end{equation}\n",
    "\n",
    "### The function is defined by the integral:\n",
    "$$ \\int\\limits_{-\\infty}^\\infty \\delta (t) dt = 1$$"
   ]
  },
  {
   "cell_type": "code",
   "execution_count": 197,
   "metadata": {},
   "outputs": [
    {
     "data": {
      "image/png": "[encoded data removed]",
      "text/plain": [
       "<matplotlib.figure.Figure at 0x1109c0240>"
      ]
     },
     "metadata": {},
     "output_type": "display_data"
    }
   ],
   "source": [
    "fig, ax = plt.subplots(1,2)\n",
    "ax[0].arrow(x=0, y=0, dx=0, dy=1.5, head_width=0.1, head_length=0.1, fc='k', ec='k')\n",
    "ax[0].axis((-1,1,0,2))\n",
    "ax[0].set_title('Continuous')\n",
    "ax[1].stem((0,),(1,))\n",
    "ax[1].axis((-1,1,0,2))\n",
    "ax[1].set_title('Discrete')\n",
    "plt.subplots_adjust(hspace=9)\n",
    "plt.show();"
   ]
  },
  {
   "cell_type": "markdown",
   "metadata": {},
   "source": [
    "***"
   ]
  },
  {
   "cell_type": "markdown",
   "metadata": {},
   "source": [
    "## Step function:\n",
    "\\begin{equation}\n",
    "u (t) = \\begin{cases}\n",
    "                  1 & \\text{for $t \\geq 0$}.\\\\\n",
    "                  0 & \\text{otherwise}\n",
    "                \\end{cases}\n",
    "\\end{equation}"
   ]
  },
  {
   "cell_type": "code",
   "execution_count": 198,
   "metadata": {},
   "outputs": [
    {
     "data": {
      "image/png": "[encoded data removed]",
      "text/plain": [
       "<matplotlib.figure.Figure at 0x113c3e828>"
      ]
     },
     "metadata": {},
     "output_type": "display_data"
    }
   ],
   "source": [
    "def step_func(t):\n",
    "    if t >= 0:\n",
    "        u = 1\n",
    "    else:\n",
    "        u = 0\n",
    "    return u    \n",
    "        \n",
    "fig, ax = plt.subplots(1,2)\n",
    "tc = np.arange(-6,6,1e-2)\n",
    "td = np.arange(-6,6,1)\n",
    "uc = np.array([step_func(ti) for ti in tc])\n",
    "ud = np.array([step_func(ti) for ti in td])\n",
    "ax[0].plot(tc,uc)\n",
    "ax[0].axis((-5,5,0,2))\n",
    "ax[0].set_title('Continuous')\n",
    "ax[0].set_xlabel('time (t)')\n",
    "ax[1].stem(td,ud)\n",
    "ax[1].axis((-5,5,0,2))\n",
    "ax[1].set_title('Discrete')\n",
    "ax[1].set_xlabel('sample (n)');"
   ]
  },
  {
   "cell_type": "markdown",
   "metadata": {},
   "source": [
    "***"
   ]
  }
 ],
 "metadata": {
  "anaconda-cloud": {},
  "kernelspec": {
   "display_name": "Python 3",
   "language": "python",
   "name": "python3"
  },
  "language_info": {
   "codemirror_mode": {
    "name": "ipython",
    "version": 3
   },
   "file_extension": ".py",
   "mimetype": "text/x-python",
   "name": "python",
   "nbconvert_exporter": "python",
   "pygments_lexer": "ipython3",
   "version": "3.6.4"
  },
  "widgets": {
   "state": {
    "10d2c0cc9aa94a5e94476e94fbeb63ca": {
     "views": [
      {
       "cell_index": 6
      }
     ]
    }
   },
   "version": "1.2.0"
  }
 },
 "nbformat": 4,
 "nbformat_minor": 2
}
